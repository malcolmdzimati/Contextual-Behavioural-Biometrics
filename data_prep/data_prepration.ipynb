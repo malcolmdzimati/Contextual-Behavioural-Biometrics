{
 "cells": [
  {
   "cell_type": "markdown",
   "metadata": {},
   "source": [
    "# Data Exploration"
   ]
  },
  {
   "cell_type": "markdown",
   "metadata": {},
   "source": [
    "## Setup"
   ]
  },
  {
   "cell_type": "markdown",
   "metadata": {},
   "source": [
    "### Downloading Librabies"
   ]
  },
  {
   "cell_type": "code",
   "execution_count": 37,
   "metadata": {},
   "outputs": [
    {
     "name": "stdout",
     "output_type": "stream",
     "text": [
      "Requirement already satisfied: pandas in /Users/batsiraidzimati/Source Code/Contextual-Behavioural-Biometrics/.venv/lib/python3.12/site-packages (2.2.3)\n",
      "Requirement already satisfied: numpy>=1.26.0 in /Users/batsiraidzimati/Source Code/Contextual-Behavioural-Biometrics/.venv/lib/python3.12/site-packages (from pandas) (2.1.1)\n",
      "Requirement already satisfied: python-dateutil>=2.8.2 in /Users/batsiraidzimati/Source Code/Contextual-Behavioural-Biometrics/.venv/lib/python3.12/site-packages (from pandas) (2.9.0.post0)\n",
      "Requirement already satisfied: pytz>=2020.1 in /Users/batsiraidzimati/Source Code/Contextual-Behavioural-Biometrics/.venv/lib/python3.12/site-packages (from pandas) (2024.2)\n",
      "Requirement already satisfied: tzdata>=2022.7 in /Users/batsiraidzimati/Source Code/Contextual-Behavioural-Biometrics/.venv/lib/python3.12/site-packages (from pandas) (2024.2)\n",
      "Requirement already satisfied: six>=1.5 in /Users/batsiraidzimati/Source Code/Contextual-Behavioural-Biometrics/.venv/lib/python3.12/site-packages (from python-dateutil>=2.8.2->pandas) (1.16.0)\n",
      "Note: you may need to restart the kernel to use updated packages.\n",
      "Requirement already satisfied: openpyxl in /Users/batsiraidzimati/Source Code/Contextual-Behavioural-Biometrics/.venv/lib/python3.12/site-packages (3.1.5)\n",
      "Requirement already satisfied: et-xmlfile in /Users/batsiraidzimati/Source Code/Contextual-Behavioural-Biometrics/.venv/lib/python3.12/site-packages (from openpyxl) (1.1.0)\n",
      "Note: you may need to restart the kernel to use updated packages.\n"
     ]
    }
   ],
   "source": [
    "%pip install pandas\n",
    "%pip install openpyxl"
   ]
  },
  {
   "cell_type": "markdown",
   "metadata": {},
   "source": [
    "### Importing Librabies"
   ]
  },
  {
   "cell_type": "code",
   "execution_count": 38,
   "metadata": {},
   "outputs": [],
   "source": [
    "import pandas as pd\n",
    "import string"
   ]
  },
  {
   "cell_type": "markdown",
   "metadata": {},
   "source": [
    "## Reading Data"
   ]
  },
  {
   "cell_type": "markdown",
   "metadata": {},
   "source": [
    "### Read Transactional Data and Non statistical exploration"
   ]
  },
  {
   "cell_type": "markdown",
   "metadata": {},
   "source": [
    "Reading data and renaming columns as well as dropping uneeded columns"
   ]
  },
  {
   "cell_type": "code",
   "execution_count": 39,
   "metadata": {},
   "outputs": [],
   "source": [
    "transactional_data = pd.read_csv(\"../DataSets/TransactionalData/bank.csv\")\n",
    "\n",
    "del transactional_data['CHQ.NO.']\n",
    "del transactional_data['VALUE DATE']\n",
    "\n",
    "transactional_data = transactional_data.rename(columns={\n",
    "    \"Account No\": \"user\",\n",
    "    \"DATE\": \"transaction_date\",\n",
    "    \"TRANSACTION DETAILS\": \"transaction_details\",\n",
    "    \" WITHDRAWAL AMT \": \"money_in\",\n",
    "    \" DEPOSIT AMT \": \"money_out\",\n",
    "    \"BALANCE AMT\": \"rolling_balance\"\n",
    "})"
   ]
  },
  {
   "cell_type": "markdown",
   "metadata": {},
   "source": [
    "Insure all the data is in correct format for exploration"
   ]
  },
  {
   "cell_type": "code",
   "execution_count": 40,
   "metadata": {},
   "outputs": [],
   "source": [
    "chars_to_remove = [' ', ',']\n",
    "\n",
    "for char in chars_to_remove:\n",
    "    transactional_data['money_in'] = transactional_data['money_in'].replace(char, '', regex=True)\n",
    "    transactional_data['money_out'] = transactional_data['money_out'].replace(char, '', regex=True)\n",
    "    transactional_data['rolling_balance'] = transactional_data['rolling_balance'].replace(char, '', regex=True)\n",
    "\n",
    "transactional_data['money_in'] = transactional_data['money_in'].astype(float)\n",
    "transactional_data['money_out'] = transactional_data['money_out'].astype(float)\n",
    "transactional_data['rolling_balance'] = transactional_data['rolling_balance'].astype(float)\n",
    "\n",
    "sorted_data = data = transactional_data.sort_values(by=['user', 'transaction_date'])"
   ]
  },
  {
   "cell_type": "markdown",
   "metadata": {},
   "source": [
    "rename users and get rid of senstive data"
   ]
  },
  {
   "cell_type": "code",
   "execution_count": 42,
   "metadata": {},
   "outputs": [],
   "source": [
    "# Get the unique users\n",
    "unique_users = transactional_data['user'].unique()\n",
    "\n",
    "# Create a mapping from old usernames to 'user a', 'user b', ..., 'user z'\n",
    "# Use string.ascii_lowercase to get lowercase letters\n",
    "user_mapping = {old_user: f'user_{letter}' for old_user, letter in zip(unique_users, string.ascii_lowercase)}\n",
    "\n",
    "# Replace the old usernames in the 'users' column with the new usernames\n",
    "transactional_data['user'] = transactional_data['user'].map(user_mapping)"
   ]
  },
  {
   "cell_type": "markdown",
   "metadata": {},
   "source": [
    "exploration of users"
   ]
  },
  {
   "cell_type": "code",
   "execution_count": 43,
   "metadata": {},
   "outputs": [
    {
     "data": {
      "text/html": [
       "<div>\n",
       "<style scoped>\n",
       "    .dataframe tbody tr th:only-of-type {\n",
       "        vertical-align: middle;\n",
       "    }\n",
       "\n",
       "    .dataframe tbody tr th {\n",
       "        vertical-align: top;\n",
       "    }\n",
       "\n",
       "    .dataframe thead th {\n",
       "        text-align: right;\n",
       "    }\n",
       "</style>\n",
       "<table border=\"1\" class=\"dataframe\">\n",
       "  <thead>\n",
       "    <tr style=\"text-align: right;\">\n",
       "      <th></th>\n",
       "      <th>total_money_in</th>\n",
       "      <th>total_money_out</th>\n",
       "      <th>initial_balance</th>\n",
       "      <th>final_balance</th>\n",
       "    </tr>\n",
       "    <tr>\n",
       "      <th>user</th>\n",
       "      <th></th>\n",
       "      <th></th>\n",
       "      <th></th>\n",
       "      <th></th>\n",
       "    </tr>\n",
       "  </thead>\n",
       "  <tbody>\n",
       "    <tr>\n",
       "      <th>user_a</th>\n",
       "      <td>1.453974e+08</td>\n",
       "      <td>1.458596e+08</td>\n",
       "      <td>1.000000e+06</td>\n",
       "      <td>4.622000e+05</td>\n",
       "    </tr>\n",
       "    <tr>\n",
       "      <th>user_b</th>\n",
       "      <td>9.537793e+07</td>\n",
       "      <td>9.565931e+07</td>\n",
       "      <td>9.622000e+05</td>\n",
       "      <td>7.435833e+05</td>\n",
       "    </tr>\n",
       "    <tr>\n",
       "      <th>user_c</th>\n",
       "      <td>3.845102e+08</td>\n",
       "      <td>2.703186e+07</td>\n",
       "      <td>7.645833e+05</td>\n",
       "      <td>-3.567348e+08</td>\n",
       "    </tr>\n",
       "    <tr>\n",
       "      <th>user_d</th>\n",
       "      <td>4.203179e+08</td>\n",
       "      <td>2.287852e+08</td>\n",
       "      <td>-5.267348e+08</td>\n",
       "      <td>-5.482675e+08</td>\n",
       "    </tr>\n",
       "    <tr>\n",
       "      <th>user_e</th>\n",
       "      <td>4.705551e+09</td>\n",
       "      <td>4.705899e+09</td>\n",
       "      <td>-3.780175e+08</td>\n",
       "      <td>-5.479193e+08</td>\n",
       "    </tr>\n",
       "    <tr>\n",
       "      <th>user_f</th>\n",
       "      <td>1.006049e+08</td>\n",
       "      <td>1.022096e+08</td>\n",
       "      <td>-5.474193e+08</td>\n",
       "      <td>-5.463146e+08</td>\n",
       "    </tr>\n",
       "    <tr>\n",
       "      <th>user_g</th>\n",
       "      <td>1.719608e+10</td>\n",
       "      <td>1.720243e+10</td>\n",
       "      <td>-1.514640e+06</td>\n",
       "      <td>-5.399631e+08</td>\n",
       "    </tr>\n",
       "    <tr>\n",
       "      <th>user_h</th>\n",
       "      <td>4.692584e+10</td>\n",
       "      <td>4.587889e+10</td>\n",
       "      <td>-5.399581e+08</td>\n",
       "      <td>-1.586916e+09</td>\n",
       "    </tr>\n",
       "    <tr>\n",
       "      <th>user_i</th>\n",
       "      <td>6.848283e+10</td>\n",
       "      <td>6.838251e+10</td>\n",
       "      <td>-1.585716e+09</td>\n",
       "      <td>-1.687234e+09</td>\n",
       "    </tr>\n",
       "    <tr>\n",
       "      <th>user_j</th>\n",
       "      <td>1.019351e+11</td>\n",
       "      <td>1.017209e+11</td>\n",
       "      <td>-1.677234e+09</td>\n",
       "      <td>-1.901417e+09</td>\n",
       "    </tr>\n",
       "  </tbody>\n",
       "</table>\n",
       "</div>"
      ],
      "text/plain": [
       "        total_money_in  total_money_out  initial_balance  final_balance\n",
       "user                                                                   \n",
       "user_a    1.453974e+08     1.458596e+08     1.000000e+06   4.622000e+05\n",
       "user_b    9.537793e+07     9.565931e+07     9.622000e+05   7.435833e+05\n",
       "user_c    3.845102e+08     2.703186e+07     7.645833e+05  -3.567348e+08\n",
       "user_d    4.203179e+08     2.287852e+08    -5.267348e+08  -5.482675e+08\n",
       "user_e    4.705551e+09     4.705899e+09    -3.780175e+08  -5.479193e+08\n",
       "user_f    1.006049e+08     1.022096e+08    -5.474193e+08  -5.463146e+08\n",
       "user_g    1.719608e+10     1.720243e+10    -1.514640e+06  -5.399631e+08\n",
       "user_h    4.692584e+10     4.587889e+10    -5.399581e+08  -1.586916e+09\n",
       "user_i    6.848283e+10     6.838251e+10    -1.585716e+09  -1.687234e+09\n",
       "user_j    1.019351e+11     1.017209e+11    -1.677234e+09  -1.901417e+09"
      ]
     },
     "execution_count": 43,
     "metadata": {},
     "output_type": "execute_result"
    }
   ],
   "source": [
    "users = transactional_data.groupby('user').aggregate(\n",
    "    total_money_in=('money_in', 'sum'),\n",
    "    total_money_out=('money_out', 'sum'),\n",
    "    initial_balance=('rolling_balance', 'first'),\n",
    "    final_balance=('rolling_balance', 'last'),\n",
    ")\n",
    "\n",
    "users.sort_values(\"user\")"
   ]
  }
 ],
 "metadata": {
  "kernelspec": {
   "display_name": ".venv",
   "language": "python",
   "name": "python3"
  },
  "language_info": {
   "codemirror_mode": {
    "name": "ipython",
    "version": 3
   },
   "file_extension": ".py",
   "mimetype": "text/x-python",
   "name": "python",
   "nbconvert_exporter": "python",
   "pygments_lexer": "ipython3",
   "version": "3.12.6"
  }
 },
 "nbformat": 4,
 "nbformat_minor": 2
}
